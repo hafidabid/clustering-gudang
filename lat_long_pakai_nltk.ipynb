{
 "cells": [
  {
   "cell_type": "code",
   "execution_count": 2,
   "metadata": {
    "collapsed": true
   },
   "outputs": [],
   "source": [
    "import pandas as pd\n",
    "from matplotlib import pyplot as plt\n",
    "from numpy import pi, sin,cos, arctan2, sqrt\n",
    "from sklearn.datasets import make_blobs\n",
    "from sklearn.metrics import silhouette_score\n",
    "from sklearn.preprocessing import StandardScaler"
   ]
  },
  {
   "cell_type": "code",
   "execution_count": 3,
   "outputs": [],
   "source": [
    "def haversine_distance(p1,p2):\n",
    "    lg1 = p1[0]\n",
    "    lat1 = p1[1]\n",
    "    lg2 = p2[0]\n",
    "    lat2 = p2[1]\n",
    "\n",
    "    R = 6371000\n",
    "    phi1 = lat1 * pi / 180 #convert to radian\n",
    "    phi2 = lat2 * pi / 180 #convert to radian\n",
    "    delta_phi = (lat2 - lat1) * pi / 180\n",
    "    delta_lambda = (lg2 - lg1) * pi / 180\n",
    "\n",
    "    a = (sin(delta_phi/2))**2 + cos(phi1) * cos(phi2) * ((sin(delta_lambda/2))**2)\n",
    "    c = 2 * arctan2(sqrt(a), sqrt(1-a))\n",
    "    distance = R * c #haversine distance between point1 and point 2 in meters\n",
    "    return round(distance, 2)"
   ],
   "metadata": {
    "collapsed": false
   }
  },
  {
   "cell_type": "code",
   "execution_count": 6,
   "outputs": [
    {
     "data": {
      "text/plain": "   province_name                        city_name      district_name  \\\n0    DKI JAKARTA  KOTA ADMINISTRASI JAKARTA BARAT         CENGKARENG   \n1    DKI JAKARTA  KOTA ADMINISTRASI JAKARTA BARAT  GROGOL PETAMBURAN   \n2    DKI JAKARTA  KOTA ADMINISTRASI JAKARTA BARAT         TAMAN SARI   \n3    DKI JAKARTA  KOTA ADMINISTRASI JAKARTA BARAT            TAMBORA   \n4    DKI JAKARTA  KOTA ADMINISTRASI JAKARTA BARAT        KEBON JERUK   \n..           ...                              ...                ...   \n63    JAWA BARAT                       KOTA DEPOK               BEJI   \n64    JAWA BARAT                       KOTA DEPOK          CIMANGGIS   \n65    JAWA BARAT                       KOTA DEPOK             CINERE   \n66    JAWA BARAT                       KOTA DEPOK               LIMO   \n67    JAWA BARAT                       KOTA DEPOK           SAWANGAN   \n\n                  lat_long  avg_demand_baseline  demand_target  njop_2021_min  \\\n0   -6.1548792,106.7204645                  153            230         2300.0   \n1   -6.1639643,106.7506821                  387            581         3700.0   \n2   -6.1461655,106.8106198                  114            171         7400.0   \n3    -6.146188,106.8079118                   36             54         4700.0   \n4   -6.1915513,106.7481174                  771           1157         7000.0   \n..                     ...                  ...            ...            ...   \n63  -6.3723053,106.7830725                  378            832            NaN   \n64  -6.3723053,106.7830725                  231            508            NaN   \n65  -6.3324008,106.7732734                  495           1089            NaN   \n66  -6.3663032,106.7621014                  264            581            NaN   \n67  -6.3979318,106.7329416                  303            667            NaN   \n\n    njop_2021_max       lat        long  \n0         14000.0 -6.154879  106.720465  \n1         35000.0 -6.163964  106.750682  \n2         35400.0 -6.146166  106.810620  \n3         35800.0 -6.146188  106.807912  \n4         20700.0 -6.191551  106.748117  \n..            ...       ...         ...  \n63            NaN -6.372305  106.783073  \n64            NaN -6.372305  106.783073  \n65            NaN -6.332401  106.773273  \n66            NaN -6.366303  106.762101  \n67            NaN -6.397932  106.732942  \n\n[68 rows x 10 columns]",
      "text/html": "<div>\n<style scoped>\n    .dataframe tbody tr th:only-of-type {\n        vertical-align: middle;\n    }\n\n    .dataframe tbody tr th {\n        vertical-align: top;\n    }\n\n    .dataframe thead th {\n        text-align: right;\n    }\n</style>\n<table border=\"1\" class=\"dataframe\">\n  <thead>\n    <tr style=\"text-align: right;\">\n      <th></th>\n      <th>province_name</th>\n      <th>city_name</th>\n      <th>district_name</th>\n      <th>lat_long</th>\n      <th>avg_demand_baseline</th>\n      <th>demand_target</th>\n      <th>njop_2021_min</th>\n      <th>njop_2021_max</th>\n      <th>lat</th>\n      <th>long</th>\n    </tr>\n  </thead>\n  <tbody>\n    <tr>\n      <th>0</th>\n      <td>DKI JAKARTA</td>\n      <td>KOTA ADMINISTRASI JAKARTA BARAT</td>\n      <td>CENGKARENG</td>\n      <td>-6.1548792,106.7204645</td>\n      <td>153</td>\n      <td>230</td>\n      <td>2300.0</td>\n      <td>14000.0</td>\n      <td>-6.154879</td>\n      <td>106.720465</td>\n    </tr>\n    <tr>\n      <th>1</th>\n      <td>DKI JAKARTA</td>\n      <td>KOTA ADMINISTRASI JAKARTA BARAT</td>\n      <td>GROGOL PETAMBURAN</td>\n      <td>-6.1639643,106.7506821</td>\n      <td>387</td>\n      <td>581</td>\n      <td>3700.0</td>\n      <td>35000.0</td>\n      <td>-6.163964</td>\n      <td>106.750682</td>\n    </tr>\n    <tr>\n      <th>2</th>\n      <td>DKI JAKARTA</td>\n      <td>KOTA ADMINISTRASI JAKARTA BARAT</td>\n      <td>TAMAN SARI</td>\n      <td>-6.1461655,106.8106198</td>\n      <td>114</td>\n      <td>171</td>\n      <td>7400.0</td>\n      <td>35400.0</td>\n      <td>-6.146166</td>\n      <td>106.810620</td>\n    </tr>\n    <tr>\n      <th>3</th>\n      <td>DKI JAKARTA</td>\n      <td>KOTA ADMINISTRASI JAKARTA BARAT</td>\n      <td>TAMBORA</td>\n      <td>-6.146188,106.8079118</td>\n      <td>36</td>\n      <td>54</td>\n      <td>4700.0</td>\n      <td>35800.0</td>\n      <td>-6.146188</td>\n      <td>106.807912</td>\n    </tr>\n    <tr>\n      <th>4</th>\n      <td>DKI JAKARTA</td>\n      <td>KOTA ADMINISTRASI JAKARTA BARAT</td>\n      <td>KEBON JERUK</td>\n      <td>-6.1915513,106.7481174</td>\n      <td>771</td>\n      <td>1157</td>\n      <td>7000.0</td>\n      <td>20700.0</td>\n      <td>-6.191551</td>\n      <td>106.748117</td>\n    </tr>\n    <tr>\n      <th>...</th>\n      <td>...</td>\n      <td>...</td>\n      <td>...</td>\n      <td>...</td>\n      <td>...</td>\n      <td>...</td>\n      <td>...</td>\n      <td>...</td>\n      <td>...</td>\n      <td>...</td>\n    </tr>\n    <tr>\n      <th>63</th>\n      <td>JAWA BARAT</td>\n      <td>KOTA DEPOK</td>\n      <td>BEJI</td>\n      <td>-6.3723053,106.7830725</td>\n      <td>378</td>\n      <td>832</td>\n      <td>NaN</td>\n      <td>NaN</td>\n      <td>-6.372305</td>\n      <td>106.783073</td>\n    </tr>\n    <tr>\n      <th>64</th>\n      <td>JAWA BARAT</td>\n      <td>KOTA DEPOK</td>\n      <td>CIMANGGIS</td>\n      <td>-6.3723053,106.7830725</td>\n      <td>231</td>\n      <td>508</td>\n      <td>NaN</td>\n      <td>NaN</td>\n      <td>-6.372305</td>\n      <td>106.783073</td>\n    </tr>\n    <tr>\n      <th>65</th>\n      <td>JAWA BARAT</td>\n      <td>KOTA DEPOK</td>\n      <td>CINERE</td>\n      <td>-6.3324008,106.7732734</td>\n      <td>495</td>\n      <td>1089</td>\n      <td>NaN</td>\n      <td>NaN</td>\n      <td>-6.332401</td>\n      <td>106.773273</td>\n    </tr>\n    <tr>\n      <th>66</th>\n      <td>JAWA BARAT</td>\n      <td>KOTA DEPOK</td>\n      <td>LIMO</td>\n      <td>-6.3663032,106.7621014</td>\n      <td>264</td>\n      <td>581</td>\n      <td>NaN</td>\n      <td>NaN</td>\n      <td>-6.366303</td>\n      <td>106.762101</td>\n    </tr>\n    <tr>\n      <th>67</th>\n      <td>JAWA BARAT</td>\n      <td>KOTA DEPOK</td>\n      <td>SAWANGAN</td>\n      <td>-6.3979318,106.7329416</td>\n      <td>303</td>\n      <td>667</td>\n      <td>NaN</td>\n      <td>NaN</td>\n      <td>-6.397932</td>\n      <td>106.732942</td>\n    </tr>\n  </tbody>\n</table>\n<p>68 rows × 10 columns</p>\n</div>"
     },
     "execution_count": 6,
     "metadata": {},
     "output_type": "execute_result"
    }
   ],
   "source": [
    "flname=\"dataset_cluster_warehouse_exp_1.csv\"\n",
    "df = pd.read_csv(flname)\n",
    "\n",
    "data_lat = []\n",
    "data_long = []\n",
    "for idx, row in df.iterrows():\n",
    "    point = row['lat_long'].split(',')\n",
    "    lat = float(point[0])\n",
    "    long = float(point[1])\n",
    "    data_lat.append(lat)\n",
    "    data_long.append(long)\n",
    "df = df.assign(lat=data_lat, long=data_long)\n",
    "df"
   ],
   "metadata": {
    "collapsed": false
   }
  },
  {
   "cell_type": "markdown",
   "source": [],
   "metadata": {
    "collapsed": false
   }
  },
  {
   "cell_type": "code",
   "execution_count": 16,
   "outputs": [
    {
     "name": "stdout",
     "output_type": "stream",
     "text": [
      "[0, 0, 0, 0, 0, 0, 0, 0, 0, 0, 0, 0, 0, 0, 0, 0, 0, 0, 0, 0, 0, 0, 0, 0, 0, 0, 0, 0, 0, 0, 0, 0, 0, 0, 0, 0, 0, 0, 0, 0, 0, 0, 0, 0, 0, 0, 0, 0, 0, 0, 0, 0, 0, 0, 0, 0, 0, 0, 0, 0, 0, 0, 0, 0, 0, 0, 0, 0]\n"
     ]
    }
   ],
   "source": [
    "from nltk.cluster.kmeans import KMeansClusterer\n",
    "from nltk.cluster import euclidean_distance\n",
    "\n",
    "wcss = []\n",
    "kmean_range = 20\n",
    "\n",
    "dataset = df[['lat', 'long']]\n",
    "train_dataset = dataset.to_numpy()\n",
    "for i in range(1,kmean_range):\n",
    "    kmeans = KMeansClusterer(i, euclidean_distance, avoid_empty_clusters=True)\n",
    "    assg_cluster = kmeans.cluster(train_dataset, assign_clusters=True)\n",
    "    print(assg_cluster)\n",
    "    break\n",
    "\n"
   ],
   "metadata": {
    "collapsed": false
   }
  },
  {
   "cell_type": "code",
   "execution_count": null,
   "outputs": [],
   "source": [],
   "metadata": {
    "collapsed": false
   }
  }
 ],
 "metadata": {
  "kernelspec": {
   "display_name": "Python 3",
   "language": "python",
   "name": "python3"
  },
  "language_info": {
   "codemirror_mode": {
    "name": "ipython",
    "version": 2
   },
   "file_extension": ".py",
   "mimetype": "text/x-python",
   "name": "python",
   "nbconvert_exporter": "python",
   "pygments_lexer": "ipython2",
   "version": "2.7.6"
  }
 },
 "nbformat": 4,
 "nbformat_minor": 0
}
