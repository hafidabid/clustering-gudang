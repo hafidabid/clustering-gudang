{
 "cells": [
  {
   "cell_type": "code",
   "execution_count": 58,
   "metadata": {
    "collapsed": true
   },
   "outputs": [],
   "source": [
    "import pandas as pd\n",
    "from matplotlib import pyplot as plt\n",
    "from sklearn.cluster import KMeans\n",
    "from numpy import pi, sin,cos, arctan2, sqrt\n",
    "from sklearn.datasets import make_blobs\n",
    "from sklearn.metrics import silhouette_score\n",
    "from sklearn.preprocessing import StandardScaler"
   ]
  },
  {
   "cell_type": "code",
   "execution_count": 59,
   "outputs": [],
   "source": [
    "def haversine_distance(p1,p2):\n",
    "    lg1 = p1[0]\n",
    "    lat1 = p1[1]\n",
    "    lg2 = p2[0]\n",
    "    lat2 = p2[1]\n",
    "\n",
    "    R = 6371000\n",
    "    phi1 = lat1 * pi / 180 #convert to radian\n",
    "    phi2 = lat2 * pi / 180 #convert to radian\n",
    "    delta_phi = (lat2 - lat1) * pi / 180\n",
    "    delta_lambda = (lg2 - lg1) * pi / 180\n",
    "\n",
    "    a = (sin(delta_phi/2))**2 + cos(phi1) * cos(phi2) * ((sin(delta_lambda/2))**2)\n",
    "    c = 2 * arctan2(sqrt(a), sqrt(1-a))\n",
    "    distance = R * c #haversine distance between point1 and point 2 in meters\n",
    "    return round(distance, 2)"
   ],
   "metadata": {
    "collapsed": false
   }
  },
  {
   "cell_type": "code",
   "execution_count": 68,
   "outputs": [
    {
     "data": {
      "text/plain": "   province_name                        city_name      district_name  \\\n0    DKI JAKARTA  KOTA ADMINISTRASI JAKARTA BARAT         CENGKARENG   \n1    DKI JAKARTA  KOTA ADMINISTRASI JAKARTA BARAT  GROGOL PETAMBURAN   \n2    DKI JAKARTA  KOTA ADMINISTRASI JAKARTA BARAT         TAMAN SARI   \n3    DKI JAKARTA  KOTA ADMINISTRASI JAKARTA BARAT            TAMBORA   \n4    DKI JAKARTA  KOTA ADMINISTRASI JAKARTA BARAT        KEBON JERUK   \n..           ...                              ...                ...   \n63    JAWA BARAT                       KOTA DEPOK               BEJI   \n64    JAWA BARAT                       KOTA DEPOK          CIMANGGIS   \n65    JAWA BARAT                       KOTA DEPOK             CINERE   \n66    JAWA BARAT                       KOTA DEPOK               LIMO   \n67    JAWA BARAT                       KOTA DEPOK           SAWANGAN   \n\n                  lat_long  avg_demand_baseline  demand_target  njop_2021_min  \\\n0   -6.1548792,106.7204645                  153            230         2300.0   \n1   -6.1639643,106.7506821                  387            581         3700.0   \n2   -6.1461655,106.8106198                  114            171         7400.0   \n3    -6.146188,106.8079118                   36             54         4700.0   \n4   -6.1915513,106.7481174                  771           1157         7000.0   \n..                     ...                  ...            ...            ...   \n63  -6.3723053,106.7830725                  378            832            NaN   \n64  -6.3723053,106.7830725                  231            508            NaN   \n65  -6.3324008,106.7732734                  495           1089            NaN   \n66  -6.3663032,106.7621014                  264            581            NaN   \n67  -6.3979318,106.7329416                  303            667            NaN   \n\n    njop_2021_max  \n0         14000.0  \n1         35000.0  \n2         35400.0  \n3         35800.0  \n4         20700.0  \n..            ...  \n63            NaN  \n64            NaN  \n65            NaN  \n66            NaN  \n67            NaN  \n\n[68 rows x 8 columns]",
      "text/html": "<div>\n<style scoped>\n    .dataframe tbody tr th:only-of-type {\n        vertical-align: middle;\n    }\n\n    .dataframe tbody tr th {\n        vertical-align: top;\n    }\n\n    .dataframe thead th {\n        text-align: right;\n    }\n</style>\n<table border=\"1\" class=\"dataframe\">\n  <thead>\n    <tr style=\"text-align: right;\">\n      <th></th>\n      <th>province_name</th>\n      <th>city_name</th>\n      <th>district_name</th>\n      <th>lat_long</th>\n      <th>avg_demand_baseline</th>\n      <th>demand_target</th>\n      <th>njop_2021_min</th>\n      <th>njop_2021_max</th>\n    </tr>\n  </thead>\n  <tbody>\n    <tr>\n      <th>0</th>\n      <td>DKI JAKARTA</td>\n      <td>KOTA ADMINISTRASI JAKARTA BARAT</td>\n      <td>CENGKARENG</td>\n      <td>-6.1548792,106.7204645</td>\n      <td>153</td>\n      <td>230</td>\n      <td>2300.0</td>\n      <td>14000.0</td>\n    </tr>\n    <tr>\n      <th>1</th>\n      <td>DKI JAKARTA</td>\n      <td>KOTA ADMINISTRASI JAKARTA BARAT</td>\n      <td>GROGOL PETAMBURAN</td>\n      <td>-6.1639643,106.7506821</td>\n      <td>387</td>\n      <td>581</td>\n      <td>3700.0</td>\n      <td>35000.0</td>\n    </tr>\n    <tr>\n      <th>2</th>\n      <td>DKI JAKARTA</td>\n      <td>KOTA ADMINISTRASI JAKARTA BARAT</td>\n      <td>TAMAN SARI</td>\n      <td>-6.1461655,106.8106198</td>\n      <td>114</td>\n      <td>171</td>\n      <td>7400.0</td>\n      <td>35400.0</td>\n    </tr>\n    <tr>\n      <th>3</th>\n      <td>DKI JAKARTA</td>\n      <td>KOTA ADMINISTRASI JAKARTA BARAT</td>\n      <td>TAMBORA</td>\n      <td>-6.146188,106.8079118</td>\n      <td>36</td>\n      <td>54</td>\n      <td>4700.0</td>\n      <td>35800.0</td>\n    </tr>\n    <tr>\n      <th>4</th>\n      <td>DKI JAKARTA</td>\n      <td>KOTA ADMINISTRASI JAKARTA BARAT</td>\n      <td>KEBON JERUK</td>\n      <td>-6.1915513,106.7481174</td>\n      <td>771</td>\n      <td>1157</td>\n      <td>7000.0</td>\n      <td>20700.0</td>\n    </tr>\n    <tr>\n      <th>...</th>\n      <td>...</td>\n      <td>...</td>\n      <td>...</td>\n      <td>...</td>\n      <td>...</td>\n      <td>...</td>\n      <td>...</td>\n      <td>...</td>\n    </tr>\n    <tr>\n      <th>63</th>\n      <td>JAWA BARAT</td>\n      <td>KOTA DEPOK</td>\n      <td>BEJI</td>\n      <td>-6.3723053,106.7830725</td>\n      <td>378</td>\n      <td>832</td>\n      <td>NaN</td>\n      <td>NaN</td>\n    </tr>\n    <tr>\n      <th>64</th>\n      <td>JAWA BARAT</td>\n      <td>KOTA DEPOK</td>\n      <td>CIMANGGIS</td>\n      <td>-6.3723053,106.7830725</td>\n      <td>231</td>\n      <td>508</td>\n      <td>NaN</td>\n      <td>NaN</td>\n    </tr>\n    <tr>\n      <th>65</th>\n      <td>JAWA BARAT</td>\n      <td>KOTA DEPOK</td>\n      <td>CINERE</td>\n      <td>-6.3324008,106.7732734</td>\n      <td>495</td>\n      <td>1089</td>\n      <td>NaN</td>\n      <td>NaN</td>\n    </tr>\n    <tr>\n      <th>66</th>\n      <td>JAWA BARAT</td>\n      <td>KOTA DEPOK</td>\n      <td>LIMO</td>\n      <td>-6.3663032,106.7621014</td>\n      <td>264</td>\n      <td>581</td>\n      <td>NaN</td>\n      <td>NaN</td>\n    </tr>\n    <tr>\n      <th>67</th>\n      <td>JAWA BARAT</td>\n      <td>KOTA DEPOK</td>\n      <td>SAWANGAN</td>\n      <td>-6.3979318,106.7329416</td>\n      <td>303</td>\n      <td>667</td>\n      <td>NaN</td>\n      <td>NaN</td>\n    </tr>\n  </tbody>\n</table>\n<p>68 rows × 8 columns</p>\n</div>"
     },
     "execution_count": 68,
     "metadata": {},
     "output_type": "execute_result"
    }
   ],
   "source": [
    "flname=\"dataset_cluster_warehouse_exp_1.csv\"\n",
    "current_loc = (-6.221509, 106.819269)\n",
    "df = pd.read_csv(flname)\n",
    "df\n"
   ],
   "metadata": {
    "collapsed": false
   }
  },
  {
   "cell_type": "code",
   "execution_count": 69,
   "outputs": [
    {
     "data": {
      "text/plain": "                          city_name      district_name  avg_demand_baseline  \\\n0   KOTA ADMINISTRASI JAKARTA BARAT         CENGKARENG                  153   \n1   KOTA ADMINISTRASI JAKARTA BARAT  GROGOL PETAMBURAN                  387   \n2   KOTA ADMINISTRASI JAKARTA BARAT         TAMAN SARI                  114   \n3   KOTA ADMINISTRASI JAKARTA BARAT            TAMBORA                   36   \n4   KOTA ADMINISTRASI JAKARTA BARAT        KEBON JERUK                  771   \n..                              ...                ...                  ...   \n63                       KOTA DEPOK               BEJI                  378   \n64                       KOTA DEPOK          CIMANGGIS                  231   \n65                       KOTA DEPOK             CINERE                  495   \n66                       KOTA DEPOK               LIMO                  264   \n67                       KOTA DEPOK           SAWANGAN                  303   \n\n    demand_target  distance  \n0             230  11192.59  \n1             581   7847.17  \n2             171   2607.40  \n3              54   2732.03  \n4            1157   7969.96  \n..            ...       ...  \n63            832   6300.04  \n64            508   6300.04  \n65           1089   6233.30  \n66            581   7876.55  \n67            667  11144.70  \n\n[68 rows x 5 columns]",
      "text/html": "<div>\n<style scoped>\n    .dataframe tbody tr th:only-of-type {\n        vertical-align: middle;\n    }\n\n    .dataframe tbody tr th {\n        vertical-align: top;\n    }\n\n    .dataframe thead th {\n        text-align: right;\n    }\n</style>\n<table border=\"1\" class=\"dataframe\">\n  <thead>\n    <tr style=\"text-align: right;\">\n      <th></th>\n      <th>city_name</th>\n      <th>district_name</th>\n      <th>avg_demand_baseline</th>\n      <th>demand_target</th>\n      <th>distance</th>\n    </tr>\n  </thead>\n  <tbody>\n    <tr>\n      <th>0</th>\n      <td>KOTA ADMINISTRASI JAKARTA BARAT</td>\n      <td>CENGKARENG</td>\n      <td>153</td>\n      <td>230</td>\n      <td>11192.59</td>\n    </tr>\n    <tr>\n      <th>1</th>\n      <td>KOTA ADMINISTRASI JAKARTA BARAT</td>\n      <td>GROGOL PETAMBURAN</td>\n      <td>387</td>\n      <td>581</td>\n      <td>7847.17</td>\n    </tr>\n    <tr>\n      <th>2</th>\n      <td>KOTA ADMINISTRASI JAKARTA BARAT</td>\n      <td>TAMAN SARI</td>\n      <td>114</td>\n      <td>171</td>\n      <td>2607.40</td>\n    </tr>\n    <tr>\n      <th>3</th>\n      <td>KOTA ADMINISTRASI JAKARTA BARAT</td>\n      <td>TAMBORA</td>\n      <td>36</td>\n      <td>54</td>\n      <td>2732.03</td>\n    </tr>\n    <tr>\n      <th>4</th>\n      <td>KOTA ADMINISTRASI JAKARTA BARAT</td>\n      <td>KEBON JERUK</td>\n      <td>771</td>\n      <td>1157</td>\n      <td>7969.96</td>\n    </tr>\n    <tr>\n      <th>...</th>\n      <td>...</td>\n      <td>...</td>\n      <td>...</td>\n      <td>...</td>\n      <td>...</td>\n    </tr>\n    <tr>\n      <th>63</th>\n      <td>KOTA DEPOK</td>\n      <td>BEJI</td>\n      <td>378</td>\n      <td>832</td>\n      <td>6300.04</td>\n    </tr>\n    <tr>\n      <th>64</th>\n      <td>KOTA DEPOK</td>\n      <td>CIMANGGIS</td>\n      <td>231</td>\n      <td>508</td>\n      <td>6300.04</td>\n    </tr>\n    <tr>\n      <th>65</th>\n      <td>KOTA DEPOK</td>\n      <td>CINERE</td>\n      <td>495</td>\n      <td>1089</td>\n      <td>6233.30</td>\n    </tr>\n    <tr>\n      <th>66</th>\n      <td>KOTA DEPOK</td>\n      <td>LIMO</td>\n      <td>264</td>\n      <td>581</td>\n      <td>7876.55</td>\n    </tr>\n    <tr>\n      <th>67</th>\n      <td>KOTA DEPOK</td>\n      <td>SAWANGAN</td>\n      <td>303</td>\n      <td>667</td>\n      <td>11144.70</td>\n    </tr>\n  </tbody>\n</table>\n<p>68 rows × 5 columns</p>\n</div>"
     },
     "execution_count": 69,
     "metadata": {},
     "output_type": "execute_result"
    }
   ],
   "source": [
    "# add distancce in dataframe from current loc\n",
    "l_distance = []\n",
    "for idx, row in df.iterrows():\n",
    "    point = row['lat_long'].split(',')\n",
    "    lat = float(point[0])\n",
    "    long = float(point[1])\n",
    "    l_distance.append(haversine_distance( (lat,long), current_loc ))\n",
    "\n",
    "df = df.assign(distance = l_distance)\n",
    "dataset = df[['city_name', 'district_name', 'avg_demand_baseline', 'demand_target', 'distance']]\n",
    "dataset"
   ],
   "metadata": {
    "collapsed": false
   }
  },
  {
   "cell_type": "code",
   "execution_count": 70,
   "outputs": [],
   "source": [
    "#Splitting"
   ],
   "metadata": {
    "collapsed": false
   }
  },
  {
   "cell_type": "code",
   "execution_count": 63,
   "outputs": [
    {
     "data": {
      "text/plain": "province_name           0\ncity_name               0\ndistrict_name           0\nlat_long                0\navg_demand_baseline     0\ndemand_target           0\nnjop_2021_min          34\nnjop_2021_max          34\ndistance                0\ndtype: int64"
     },
     "execution_count": 63,
     "metadata": {},
     "output_type": "execute_result"
    }
   ],
   "source": [
    "#Data Cleansing\n",
    "df.isna().sum()"
   ],
   "metadata": {
    "collapsed": false
   }
  },
  {
   "cell_type": "code",
   "execution_count": 64,
   "outputs": [
    {
     "name": "stdout",
     "output_type": "stream",
     "text": [
      "<class 'pandas.core.frame.DataFrame'>\n",
      "RangeIndex: 68 entries, 0 to 67\n",
      "Data columns (total 9 columns):\n",
      " #   Column               Non-Null Count  Dtype  \n",
      "---  ------               --------------  -----  \n",
      " 0   province_name        68 non-null     object \n",
      " 1   city_name            68 non-null     object \n",
      " 2   district_name        68 non-null     object \n",
      " 3   lat_long             68 non-null     object \n",
      " 4   avg_demand_baseline  68 non-null     int64  \n",
      " 5   demand_target        68 non-null     int64  \n",
      " 6   njop_2021_min        34 non-null     float64\n",
      " 7   njop_2021_max        34 non-null     float64\n",
      " 8   distance             68 non-null     float64\n",
      "dtypes: float64(3), int64(2), object(4)\n",
      "memory usage: 4.9+ KB\n"
     ]
    }
   ],
   "source": [
    "df.info()"
   ],
   "metadata": {
    "collapsed": false
   }
  },
  {
   "cell_type": "code",
   "execution_count": 65,
   "outputs": [
    {
     "data": {
      "text/plain": "       avg_demand_baseline  demand_target  njop_2021_min  njop_2021_max  \\\ncount            68.000000      68.000000      34.000000      34.000000   \nmean            320.647059     566.029412    2955.882353   27758.852941   \nstd             226.066148     374.383512    1560.339275   20948.206807   \nmin              33.000000      54.000000    1400.000000    5095.000000   \n25%             152.250000     266.750000    1757.000000   15640.000000   \n50%             285.000000     508.000000    2430.000000   22302.500000   \n75%             405.750000     752.250000    3375.000000   35000.000000   \nmax            1197.000000    1796.000000    7400.000000   95580.000000   \n\n           distance  \ncount     68.000000  \nmean    9069.908382  \nstd     6653.713075  \nmin      710.540000  \n25%     3609.425000  \n50%     7643.600000  \n75%    13424.042500  \nmax    29273.370000  ",
      "text/html": "<div>\n<style scoped>\n    .dataframe tbody tr th:only-of-type {\n        vertical-align: middle;\n    }\n\n    .dataframe tbody tr th {\n        vertical-align: top;\n    }\n\n    .dataframe thead th {\n        text-align: right;\n    }\n</style>\n<table border=\"1\" class=\"dataframe\">\n  <thead>\n    <tr style=\"text-align: right;\">\n      <th></th>\n      <th>avg_demand_baseline</th>\n      <th>demand_target</th>\n      <th>njop_2021_min</th>\n      <th>njop_2021_max</th>\n      <th>distance</th>\n    </tr>\n  </thead>\n  <tbody>\n    <tr>\n      <th>count</th>\n      <td>68.000000</td>\n      <td>68.000000</td>\n      <td>34.000000</td>\n      <td>34.000000</td>\n      <td>68.000000</td>\n    </tr>\n    <tr>\n      <th>mean</th>\n      <td>320.647059</td>\n      <td>566.029412</td>\n      <td>2955.882353</td>\n      <td>27758.852941</td>\n      <td>9069.908382</td>\n    </tr>\n    <tr>\n      <th>std</th>\n      <td>226.066148</td>\n      <td>374.383512</td>\n      <td>1560.339275</td>\n      <td>20948.206807</td>\n      <td>6653.713075</td>\n    </tr>\n    <tr>\n      <th>min</th>\n      <td>33.000000</td>\n      <td>54.000000</td>\n      <td>1400.000000</td>\n      <td>5095.000000</td>\n      <td>710.540000</td>\n    </tr>\n    <tr>\n      <th>25%</th>\n      <td>152.250000</td>\n      <td>266.750000</td>\n      <td>1757.000000</td>\n      <td>15640.000000</td>\n      <td>3609.425000</td>\n    </tr>\n    <tr>\n      <th>50%</th>\n      <td>285.000000</td>\n      <td>508.000000</td>\n      <td>2430.000000</td>\n      <td>22302.500000</td>\n      <td>7643.600000</td>\n    </tr>\n    <tr>\n      <th>75%</th>\n      <td>405.750000</td>\n      <td>752.250000</td>\n      <td>3375.000000</td>\n      <td>35000.000000</td>\n      <td>13424.042500</td>\n    </tr>\n    <tr>\n      <th>max</th>\n      <td>1197.000000</td>\n      <td>1796.000000</td>\n      <td>7400.000000</td>\n      <td>95580.000000</td>\n      <td>29273.370000</td>\n    </tr>\n  </tbody>\n</table>\n</div>"
     },
     "execution_count": 65,
     "metadata": {},
     "output_type": "execute_result"
    }
   ],
   "source": [
    "df.describe()"
   ],
   "metadata": {
    "collapsed": false
   }
  },
  {
   "cell_type": "code",
   "execution_count": 72,
   "outputs": [
    {
     "data": {
      "text/plain": "array([[-0.7470978 , -0.90422734,  0.32139406],\n       [ 0.29569345,  0.04028461, -0.18513415],\n       [-0.92089634, -1.06299145, -0.97848485],\n       [-1.26849343, -1.37782877, -0.95961469],\n       [ 2.00694062,  1.59025294, -0.16654258],\n       [-0.66688309, -0.83157257,  1.10927434],\n       [ 0.99088761,  0.66995925, -0.67699532],\n       [ 0.02831107, -0.20189794,  0.53462399],\n       [ 1.76629649,  1.37228865, -0.24677899],\n       [-0.26580953, -0.46829874, -0.65457764],\n       [-0.07864187, -0.29877096, -0.76735345],\n       [ 3.90535546,  3.30974906, -0.12165119],\n       [ 0.26895521,  0.01606636, -1.08794177],\n       [ 0.97751849,  0.65650466, -1.16143743],\n       [ 0.06841843, -0.16691601, -1.16143743],\n       [-0.21233306, -0.41986223,  0.00959809],\n       [ 1.01762585,  0.6941775 , -1.26568738],\n       [ 0.46949199,  0.19635781, -1.26568738],\n       [ 0.20210962,  0.25017616,  0.01550609],\n       [-1.12143312, -1.18946456,  0.01550609],\n       [-1.26849343, -1.34822868, -0.70472142],\n       [ 0.36253904,  0.42508578, -0.25905678],\n       [-0.06527276, -0.0404429 , -0.70819929],\n       [-0.86741987, -0.91230009, -0.82676198],\n       [-0.98774194, -1.04415503, -0.61204218],\n       [-0.26580953, -0.2584072 , -0.93954537],\n       [-0.76046692, -0.79659065, -0.7762427 ],\n       [-0.97437282, -1.02800953, -0.43773508],\n       [-1.26849343, -1.34822868, -0.43773508],\n       [ 1.65934354,  1.8324355 , -0.25782885],\n       [-1.00111105, -1.05760962, -0.10420277],\n       [ 0.87056554,  0.97672381, -0.86647668],\n       [ 2.54170536,  2.79309295,  0.85052921],\n       [-0.35939336, -0.36066205, -0.64191375],\n       [-0.25244042, -0.45753508, -0.82678923],\n       [-0.19896394, -0.40909857, -0.96765907],\n       [-0.85405075, -1.00110036, -0.89248125],\n       [ 0.46949199,  0.19635781, -0.89868147],\n       [ 2.10052445,  1.67367138, -1.24286543],\n       [-0.3861316 , -0.57862635, -1.04455691],\n       [-0.5331919 , -0.7104813 , -1.14281407],\n       [ 1.67271266,  1.2861793 , -0.87356264],\n       [-0.97437282, -0.92037284,  1.45050885],\n       [ 0.04168019,  0.43046761,  2.47133105],\n       [-0.39950072, -0.15615234,  0.84955413],\n       [-0.69362133, -0.54633534,  1.52117012],\n       [-0.97437282, -0.92037284,  3.05899504],\n       [-0.11874923,  0.21788515,  0.78368042],\n       [ 0.42938463,  0.94443281,  2.32190355],\n       [-0.88078899, -0.79389973,  0.37184217],\n       [-0.54656102, -0.34989839,  1.8604242 ],\n       [ 0.05504931,  0.44930403,  1.926899  ],\n       [ 0.9106729 ,  1.58487111,  0.85061249],\n       [-0.06527276,  0.287849  ,  0.38296774],\n       [-0.25244042,  0.04028461,  0.64088466],\n       [ 0.3358008 ,  0.82065061,  0.9696612 ],\n       [ 0.80371995,  1.4422525 ,  1.55003179],\n       [-0.10538011, -0.08349758,  0.7510426 ],\n       [-1.28186254, -1.36437419,  0.71437426],\n       [-1.00111105, -1.05760962,  0.40288111],\n       [-1.16154048, -1.23251924,  0.53919807],\n       [-0.70699045, -0.73739047,  1.08317135],\n       [-0.06527276, -0.0404429 , -0.06156889],\n       [ 0.25558609,  0.71570484, -0.41938425],\n       [-0.39950072, -0.15615234, -0.41938425],\n       [ 0.77698171,  1.40727057, -0.42948932],\n       [-0.25244042,  0.04028461, -0.18068574],\n       [-0.07864187,  0.2717035 ,  0.31414306]])"
     },
     "execution_count": 72,
     "metadata": {},
     "output_type": "execute_result"
    }
   ],
   "source": [
    "#Rescaling\n",
    "scaler = StandardScaler()\n",
    "dataset_to_scale = dataset[['avg_demand_baseline','demand_target', 'distance']]\n",
    "dataset_scaled = scaler.fit_transform(dataset_to_scale)\n",
    "dataset_scaled"
   ],
   "metadata": {
    "collapsed": false
   }
  },
  {
   "cell_type": "code",
   "execution_count": 66,
   "outputs": [
    {
     "data": {
      "text/plain": "<matplotlib.collections.PathCollection at 0x7f44e24e9790>"
     },
     "execution_count": 66,
     "metadata": {},
     "output_type": "execute_result"
    },
    {
     "data": {
      "text/plain": "<Figure size 640x480 with 1 Axes>",
      "image/png": "[encoded data removed]"
     },
     "metadata": {},
     "output_type": "display_data"
    }
   ],
   "source": [
    "# Visualisasi data awal\n",
    "plt.scatter(df['avg_demand_baseline'], df['demand_target'])"
   ],
   "metadata": {
    "collapsed": false
   }
  },
  {
   "cell_type": "code",
   "execution_count": 75,
   "outputs": [
    {
     "data": {
      "text/plain": "KMeans(init='random', max_iter=100, n_clusters=3)",
      "text/html": "<style>#sk-container-id-2 {color: black;background-color: white;}#sk-container-id-2 pre{padding: 0;}#sk-container-id-2 div.sk-toggleable {background-color: white;}#sk-container-id-2 label.sk-toggleable__label {cursor: pointer;display: block;width: 100%;margin-bottom: 0;padding: 0.3em;box-sizing: border-box;text-align: center;}#sk-container-id-2 label.sk-toggleable__label-arrow:before {content: \"▸\";float: left;margin-right: 0.25em;color: #696969;}#sk-container-id-2 label.sk-toggleable__label-arrow:hover:before {color: black;}#sk-container-id-2 div.sk-estimator:hover label.sk-toggleable__label-arrow:before {color: black;}#sk-container-id-2 div.sk-toggleable__content {max-height: 0;max-width: 0;overflow: hidden;text-align: left;background-color: #f0f8ff;}#sk-container-id-2 div.sk-toggleable__content pre {margin: 0.2em;color: black;border-radius: 0.25em;background-color: #f0f8ff;}#sk-container-id-2 input.sk-toggleable__control:checked~div.sk-toggleable__content {max-height: 200px;max-width: 100%;overflow: auto;}#sk-container-id-2 input.sk-toggleable__control:checked~label.sk-toggleable__label-arrow:before {content: \"▾\";}#sk-container-id-2 div.sk-estimator input.sk-toggleable__control:checked~label.sk-toggleable__label {background-color: #d4ebff;}#sk-container-id-2 div.sk-label input.sk-toggleable__control:checked~label.sk-toggleable__label {background-color: #d4ebff;}#sk-container-id-2 input.sk-hidden--visually {border: 0;clip: rect(1px 1px 1px 1px);clip: rect(1px, 1px, 1px, 1px);height: 1px;margin: -1px;overflow: hidden;padding: 0;position: absolute;width: 1px;}#sk-container-id-2 div.sk-estimator {font-family: monospace;background-color: #f0f8ff;border: 1px dotted black;border-radius: 0.25em;box-sizing: border-box;margin-bottom: 0.5em;}#sk-container-id-2 div.sk-estimator:hover {background-color: #d4ebff;}#sk-container-id-2 div.sk-parallel-item::after {content: \"\";width: 100%;border-bottom: 1px solid gray;flex-grow: 1;}#sk-container-id-2 div.sk-label:hover label.sk-toggleable__label {background-color: #d4ebff;}#sk-container-id-2 div.sk-serial::before {content: \"\";position: absolute;border-left: 1px solid gray;box-sizing: border-box;top: 0;bottom: 0;left: 50%;z-index: 0;}#sk-container-id-2 div.sk-serial {display: flex;flex-direction: column;align-items: center;background-color: white;padding-right: 0.2em;padding-left: 0.2em;position: relative;}#sk-container-id-2 div.sk-item {position: relative;z-index: 1;}#sk-container-id-2 div.sk-parallel {display: flex;align-items: stretch;justify-content: center;background-color: white;position: relative;}#sk-container-id-2 div.sk-item::before, #sk-container-id-2 div.sk-parallel-item::before {content: \"\";position: absolute;border-left: 1px solid gray;box-sizing: border-box;top: 0;bottom: 0;left: 50%;z-index: -1;}#sk-container-id-2 div.sk-parallel-item {display: flex;flex-direction: column;z-index: 1;position: relative;background-color: white;}#sk-container-id-2 div.sk-parallel-item:first-child::after {align-self: flex-end;width: 50%;}#sk-container-id-2 div.sk-parallel-item:last-child::after {align-self: flex-start;width: 50%;}#sk-container-id-2 div.sk-parallel-item:only-child::after {width: 0;}#sk-container-id-2 div.sk-dashed-wrapped {border: 1px dashed gray;margin: 0 0.4em 0.5em 0.4em;box-sizing: border-box;padding-bottom: 0.4em;background-color: white;}#sk-container-id-2 div.sk-label label {font-family: monospace;font-weight: bold;display: inline-block;line-height: 1.2em;}#sk-container-id-2 div.sk-label-container {text-align: center;}#sk-container-id-2 div.sk-container {/* jupyter's `normalize.less` sets `[hidden] { display: none; }` but bootstrap.min.css set `[hidden] { display: none !important; }` so we also need the `!important` here to be able to override the default hidden behavior on the sphinx rendered scikit-learn.org. See: https://github.com/scikit-learn/scikit-learn/issues/21755 */display: inline-block !important;position: relative;}#sk-container-id-2 div.sk-text-repr-fallback {display: none;}</style><div id=\"sk-container-id-2\" class=\"sk-top-container\"><div class=\"sk-text-repr-fallback\"><pre>KMeans(init=&#x27;random&#x27;, max_iter=100, n_clusters=3)</pre><b>In a Jupyter environment, please rerun this cell to show the HTML representation or trust the notebook. <br />On GitHub, the HTML representation is unable to render, please try loading this page with nbviewer.org.</b></div><div class=\"sk-container\" hidden><div class=\"sk-item\"><div class=\"sk-estimator sk-toggleable\"><input class=\"sk-toggleable__control sk-hidden--visually\" id=\"sk-estimator-id-2\" type=\"checkbox\" checked><label for=\"sk-estimator-id-2\" class=\"sk-toggleable__label sk-toggleable__label-arrow\">KMeans</label><div class=\"sk-toggleable__content\"><pre>KMeans(init=&#x27;random&#x27;, max_iter=100, n_clusters=3)</pre></div></div></div></div></div>"
     },
     "execution_count": 75,
     "metadata": {},
     "output_type": "execute_result"
    }
   ],
   "source": [
    "#\n",
    "km = KMeans(\n",
    "    init=\"random\",\n",
    "    n_clusters=3,\n",
    "    max_iter=100\n",
    ")\n",
    "km.fit(dataset_scaled)"
   ],
   "metadata": {
    "collapsed": false
   }
  },
  {
   "cell_type": "code",
   "execution_count": 76,
   "outputs": [
    {
     "name": "stdout",
     "output_type": "stream",
     "text": [
      "[[-0.2160467   0.00874108  1.31001484]\n",
      " [ 1.63054851  1.5267059  -0.43139801]\n",
      " [-0.46779162 -0.5406626  -0.48573224]]\n"
     ]
    }
   ],
   "source": [
    "clusters = km.cluster_centers_\n",
    "print(clusters)"
   ],
   "metadata": {
    "collapsed": false
   }
  },
  {
   "cell_type": "code",
   "execution_count": 91,
   "outputs": [
    {
     "data": {
      "text/plain": "array([1, 1, 1, 1, 0, 2, 0, 2, 0, 1, 1, 0, 1, 0, 1, 1, 0, 1, 1, 1, 1, 1,\n       1, 1, 1, 1, 1, 1, 1, 0, 1, 0, 0, 1, 1, 1, 1, 1, 0, 1, 1, 0, 2, 2,\n       2, 2, 2, 2, 2, 1, 2, 2, 0, 2, 2, 2, 2, 2, 1, 1, 1, 2, 1, 1, 1, 0,\n       1, 2], dtype=int32)"
     },
     "execution_count": 91,
     "metadata": {},
     "output_type": "execute_result"
    }
   ],
   "source": [
    "y_km = km.fit_predict(dataset_scaled)\n",
    "y_km"
   ],
   "metadata": {
    "collapsed": false
   }
  },
  {
   "cell_type": "code",
   "execution_count": 94,
   "outputs": [
    {
     "data": {
      "text/plain": "<Figure size 640x480 with 1 Axes>",
      "image/png": "[encoded data removed]"
     },
     "metadata": {},
     "output_type": "display_data"
    }
   ],
   "source": [
    "plt.scatter(dataset_scaled[:,0], dataset_scaled[:,1], s=50, color='red')\n",
    "plt.scatter(dataset_scaled[:,0], dataset_scaled[:,1], s=50, color='green')\n",
    "plt.scatter(dataset_scaled[:,0], dataset_scaled[:,1], s=50, color='blue')\n",
    "\n",
    "plt.show()"
   ],
   "metadata": {
    "collapsed": false
   }
  },
  {
   "cell_type": "code",
   "execution_count": null,
   "outputs": [],
   "source": [],
   "metadata": {
    "collapsed": false
   }
  }
 ],
 "metadata": {
  "kernelspec": {
   "display_name": "Python 3",
   "language": "python",
   "name": "python3"
  },
  "language_info": {
   "codemirror_mode": {
    "name": "ipython",
    "version": 2
   },
   "file_extension": ".py",
   "mimetype": "text/x-python",
   "name": "python",
   "nbconvert_exporter": "python",
   "pygments_lexer": "ipython2",
   "version": "2.7.6"
  }
 },
 "nbformat": 4,
 "nbformat_minor": 0
}
