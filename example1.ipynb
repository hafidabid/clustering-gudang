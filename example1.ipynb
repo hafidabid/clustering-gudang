{
 "cells": [
  {
   "cell_type": "code",
   "execution_count": 4,
   "metadata": {
    "collapsed": true
   },
   "outputs": [
    {
     "name": "stdout",
     "output_type": "stream",
     "text": [
      "(array([[-2.92110473, -5.87092721],\n",
      "       [-3.02994109,  1.86959382],\n",
      "       [-0.76754221, -5.69548201],\n",
      "       [-4.47570217,  7.55190425],\n",
      "       [-6.93525397,  9.96223593],\n",
      "       [-5.1602408 , -2.3868401 ],\n",
      "       [-1.70400879, -2.88008464],\n",
      "       [-0.68214058, -4.8326936 ],\n",
      "       [ 0.11528327, -4.98158692],\n",
      "       [-3.75783979, -1.28301808],\n",
      "       [ 4.2204409 , -7.82455952],\n",
      "       [ 0.9867775 , -7.30690762],\n",
      "       [ 0.16230968, 10.46302588],\n",
      "       [ 1.19709771, -5.35592862],\n",
      "       [-2.06717832, 10.70936083],\n",
      "       [-5.00817726, 10.18017688],\n",
      "       [-1.19936295,  7.98577692],\n",
      "       [-5.20900103, -1.51271262],\n",
      "       [ 1.26381204, -7.84824077],\n",
      "       [-5.47121129, -6.18687342],\n",
      "       [-3.59415337, 10.98819992],\n",
      "       [-0.61150386, -3.24108804],\n",
      "       [-5.30355979, -1.99795195],\n",
      "       [-6.10691421, -5.98494706],\n",
      "       [-0.42863319, -4.24947701],\n",
      "       [-2.45586193, -4.16423929],\n",
      "       [-6.31415081, -2.06497342],\n",
      "       [-0.02203436,  8.52842509],\n",
      "       [-0.73829645, -5.2013526 ],\n",
      "       [-3.78760877, 11.34772394],\n",
      "       [-0.24133383,  9.67659822],\n",
      "       [-4.97460278, -3.08825154],\n",
      "       [-2.29833776, -4.66005371],\n",
      "       [-3.93108615, 11.95185753],\n",
      "       [-2.9755003 ,  9.31822147],\n",
      "       [-6.13566432, -2.93094035],\n",
      "       [-1.10703455, -4.83713152],\n",
      "       [ 1.08654318, -6.94815805],\n",
      "       [ 1.00681205, -5.97364221],\n",
      "       [-3.99861134, 12.12405143],\n",
      "       [ 1.0976676 , -4.85679456],\n",
      "       [-2.32234249, 10.03440874],\n",
      "       [ 0.09417313, -4.05882797],\n",
      "       [-4.94029908, -8.16922641],\n",
      "       [ 1.673483  ,  9.24419385],\n",
      "       [-5.57382576, -2.26737455],\n",
      "       [-1.53349447, -5.87137205],\n",
      "       [-2.81491082,  9.92058784],\n",
      "       [-3.9423794 ,  9.82816286],\n",
      "       [-3.80512835,  9.80860689],\n",
      "       [-2.45115126,  9.0426188 ],\n",
      "       [-1.37711368, -5.50047455],\n",
      "       [-3.36134363,  8.22083113],\n",
      "       [-3.72488491,  0.52139097],\n",
      "       [ 5.19455346, -3.85790517],\n",
      "       [-5.91551686, -1.39463278],\n",
      "       [-3.75526942, -1.56756272],\n",
      "       [ 0.03141643, -5.38350852],\n",
      "       [-0.34759371, -4.33384716],\n",
      "       [-6.76865308, -3.56907573],\n",
      "       [-1.92339571,  9.05530869],\n",
      "       [-0.55798628, -2.70088621],\n",
      "       [-5.45752453,  8.83458047],\n",
      "       [-2.68372456,  9.09039465],\n",
      "       [-2.59024036, 12.76618484],\n",
      "       [-5.19987051, -1.59879364],\n",
      "       [-5.73938121, -0.72564885],\n",
      "       [ 1.64436813, -3.29688399],\n",
      "       [-4.7323546 ,  8.32182956],\n",
      "       [-2.77413056, -5.7887296 ],\n",
      "       [-3.60221906, -4.61401755],\n",
      "       [-5.1541792 , -4.12796457],\n",
      "       [-7.62627421, -4.60727232],\n",
      "       [-0.04555446, -5.77956461],\n",
      "       [-2.43786697,  9.81572597],\n",
      "       [-1.58521034, -0.33286759],\n",
      "       [ 0.09021892, -4.24988128],\n",
      "       [-1.35671783, -3.72590953],\n",
      "       [-5.10916044, -4.59492642],\n",
      "       [-6.65130512, -3.92501387],\n",
      "       [-3.34422369,  8.78307962],\n",
      "       [-3.29510969, 10.19063589],\n",
      "       [-4.51953031, 11.1233331 ],\n",
      "       [-2.15963524, -7.56230415],\n",
      "       [-4.67049794, -3.22427571],\n",
      "       [-1.54966315, 10.02310833],\n",
      "       [-1.29278049,  9.59936231],\n",
      "       [ 0.24762286, -5.03543616],\n",
      "       [-2.53691885, -3.00559296],\n",
      "       [-0.37125566, -4.99321884],\n",
      "       [-2.3766811 ,  7.71046258],\n",
      "       [ 2.15114671, -6.20110934],\n",
      "       [ 1.88573297,  9.80686047],\n",
      "       [ 0.0455976 , -4.59883918],\n",
      "       [-1.99764975, -3.85128758],\n",
      "       [-6.65058496, -2.11819191],\n",
      "       [-0.50120976, -3.66534438],\n",
      "       [-3.49785697, -0.87504527],\n",
      "       [-3.50424173, -2.93025873],\n",
      "       [-4.57024715, -0.71578728]]), array([1, 1, 0, 2, 2, 1, 0, 0, 0, 1, 0, 0, 2, 0, 2, 2, 2, 1, 0, 1, 2, 0,\n",
      "       1, 1, 0, 1, 1, 2, 0, 2, 2, 1, 0, 2, 2, 1, 0, 0, 0, 2, 0, 2, 0, 1,\n",
      "       2, 1, 0, 2, 2, 2, 2, 0, 2, 1, 0, 1, 1, 0, 0, 1, 2, 0, 2, 2, 2, 1,\n",
      "       1, 0, 2, 0, 1, 1, 1, 0, 2, 1, 0, 0, 1, 1, 2, 2, 2, 0, 1, 2, 2, 0,\n",
      "       1, 0, 2, 0, 2, 0, 1, 1, 0, 1, 1, 1]))\n"
     ]
    }
   ],
   "source": [
    "import numpy as np\n",
    "import matplotlib.pyplot as plt\n",
    "from sklearn.datasets import make_blobs\n",
    "\n",
    "dataset = make_blobs(n_samples=100, centers=3, n_features=2, cluster_std=1.6, random_state=50)\n",
    "print(dataset)"
   ]
  },
  {
   "cell_type": "code",
   "execution_count": 5,
   "outputs": [
    {
     "name": "stdout",
     "output_type": "stream",
     "text": [
      "[[-2.92110473 -5.87092721]\n",
      " [-3.02994109  1.86959382]\n",
      " [-0.76754221 -5.69548201]\n",
      " [-4.47570217  7.55190425]\n",
      " [-6.93525397  9.96223593]\n",
      " [-5.1602408  -2.3868401 ]\n",
      " [-1.70400879 -2.88008464]\n",
      " [-0.68214058 -4.8326936 ]\n",
      " [ 0.11528327 -4.98158692]\n",
      " [-3.75783979 -1.28301808]\n",
      " [ 4.2204409  -7.82455952]\n",
      " [ 0.9867775  -7.30690762]\n",
      " [ 0.16230968 10.46302588]\n",
      " [ 1.19709771 -5.35592862]\n",
      " [-2.06717832 10.70936083]\n",
      " [-5.00817726 10.18017688]\n",
      " [-1.19936295  7.98577692]\n",
      " [-5.20900103 -1.51271262]\n",
      " [ 1.26381204 -7.84824077]\n",
      " [-5.47121129 -6.18687342]\n",
      " [-3.59415337 10.98819992]\n",
      " [-0.61150386 -3.24108804]\n",
      " [-5.30355979 -1.99795195]\n",
      " [-6.10691421 -5.98494706]\n",
      " [-0.42863319 -4.24947701]\n",
      " [-2.45586193 -4.16423929]\n",
      " [-6.31415081 -2.06497342]\n",
      " [-0.02203436  8.52842509]\n",
      " [-0.73829645 -5.2013526 ]\n",
      " [-3.78760877 11.34772394]\n",
      " [-0.24133383  9.67659822]\n",
      " [-4.97460278 -3.08825154]\n",
      " [-2.29833776 -4.66005371]\n",
      " [-3.93108615 11.95185753]\n",
      " [-2.9755003   9.31822147]\n",
      " [-6.13566432 -2.93094035]\n",
      " [-1.10703455 -4.83713152]\n",
      " [ 1.08654318 -6.94815805]\n",
      " [ 1.00681205 -5.97364221]\n",
      " [-3.99861134 12.12405143]\n",
      " [ 1.0976676  -4.85679456]\n",
      " [-2.32234249 10.03440874]\n",
      " [ 0.09417313 -4.05882797]\n",
      " [-4.94029908 -8.16922641]\n",
      " [ 1.673483    9.24419385]\n",
      " [-5.57382576 -2.26737455]\n",
      " [-1.53349447 -5.87137205]\n",
      " [-2.81491082  9.92058784]\n",
      " [-3.9423794   9.82816286]\n",
      " [-3.80512835  9.80860689]\n",
      " [-2.45115126  9.0426188 ]\n",
      " [-1.37711368 -5.50047455]\n",
      " [-3.36134363  8.22083113]\n",
      " [-3.72488491  0.52139097]\n",
      " [ 5.19455346 -3.85790517]\n",
      " [-5.91551686 -1.39463278]\n",
      " [-3.75526942 -1.56756272]\n",
      " [ 0.03141643 -5.38350852]\n",
      " [-0.34759371 -4.33384716]\n",
      " [-6.76865308 -3.56907573]\n",
      " [-1.92339571  9.05530869]\n",
      " [-0.55798628 -2.70088621]\n",
      " [-5.45752453  8.83458047]\n",
      " [-2.68372456  9.09039465]\n",
      " [-2.59024036 12.76618484]\n",
      " [-5.19987051 -1.59879364]\n",
      " [-5.73938121 -0.72564885]\n",
      " [ 1.64436813 -3.29688399]\n",
      " [-4.7323546   8.32182956]\n",
      " [-2.77413056 -5.7887296 ]\n",
      " [-3.60221906 -4.61401755]\n",
      " [-5.1541792  -4.12796457]\n",
      " [-7.62627421 -4.60727232]\n",
      " [-0.04555446 -5.77956461]\n",
      " [-2.43786697  9.81572597]\n",
      " [-1.58521034 -0.33286759]\n",
      " [ 0.09021892 -4.24988128]\n",
      " [-1.35671783 -3.72590953]\n",
      " [-5.10916044 -4.59492642]\n",
      " [-6.65130512 -3.92501387]\n",
      " [-3.34422369  8.78307962]\n",
      " [-3.29510969 10.19063589]\n",
      " [-4.51953031 11.1233331 ]\n",
      " [-2.15963524 -7.56230415]\n",
      " [-4.67049794 -3.22427571]\n",
      " [-1.54966315 10.02310833]\n",
      " [-1.29278049  9.59936231]\n",
      " [ 0.24762286 -5.03543616]\n",
      " [-2.53691885 -3.00559296]\n",
      " [-0.37125566 -4.99321884]\n",
      " [-2.3766811   7.71046258]\n",
      " [ 2.15114671 -6.20110934]\n",
      " [ 1.88573297  9.80686047]\n",
      " [ 0.0455976  -4.59883918]\n",
      " [-1.99764975 -3.85128758]\n",
      " [-6.65058496 -2.11819191]\n",
      " [-0.50120976 -3.66534438]\n",
      " [-3.49785697 -0.87504527]\n",
      " [-3.50424173 -2.93025873]\n",
      " [-4.57024715 -0.71578728]]\n"
     ]
    }
   ],
   "source": [
    "points = dataset[0]\n",
    "print(points)"
   ],
   "metadata": {
    "collapsed": false
   }
  },
  {
   "cell_type": "code",
   "execution_count": 6,
   "outputs": [],
   "source": [
    "from sklearn.cluster import KMeans\n",
    "kmeans = KMeans(n_clusters=3)"
   ],
   "metadata": {
    "collapsed": false
   }
  },
  {
   "cell_type": "code",
   "execution_count": 7,
   "outputs": [
    {
     "data": {
      "text/plain": "KMeans(n_clusters=3)",
      "text/html": "<style>#sk-container-id-1 {color: black;background-color: white;}#sk-container-id-1 pre{padding: 0;}#sk-container-id-1 div.sk-toggleable {background-color: white;}#sk-container-id-1 label.sk-toggleable__label {cursor: pointer;display: block;width: 100%;margin-bottom: 0;padding: 0.3em;box-sizing: border-box;text-align: center;}#sk-container-id-1 label.sk-toggleable__label-arrow:before {content: \"▸\";float: left;margin-right: 0.25em;color: #696969;}#sk-container-id-1 label.sk-toggleable__label-arrow:hover:before {color: black;}#sk-container-id-1 div.sk-estimator:hover label.sk-toggleable__label-arrow:before {color: black;}#sk-container-id-1 div.sk-toggleable__content {max-height: 0;max-width: 0;overflow: hidden;text-align: left;background-color: #f0f8ff;}#sk-container-id-1 div.sk-toggleable__content pre {margin: 0.2em;color: black;border-radius: 0.25em;background-color: #f0f8ff;}#sk-container-id-1 input.sk-toggleable__control:checked~div.sk-toggleable__content {max-height: 200px;max-width: 100%;overflow: auto;}#sk-container-id-1 input.sk-toggleable__control:checked~label.sk-toggleable__label-arrow:before {content: \"▾\";}#sk-container-id-1 div.sk-estimator input.sk-toggleable__control:checked~label.sk-toggleable__label {background-color: #d4ebff;}#sk-container-id-1 div.sk-label input.sk-toggleable__control:checked~label.sk-toggleable__label {background-color: #d4ebff;}#sk-container-id-1 input.sk-hidden--visually {border: 0;clip: rect(1px 1px 1px 1px);clip: rect(1px, 1px, 1px, 1px);height: 1px;margin: -1px;overflow: hidden;padding: 0;position: absolute;width: 1px;}#sk-container-id-1 div.sk-estimator {font-family: monospace;background-color: #f0f8ff;border: 1px dotted black;border-radius: 0.25em;box-sizing: border-box;margin-bottom: 0.5em;}#sk-container-id-1 div.sk-estimator:hover {background-color: #d4ebff;}#sk-container-id-1 div.sk-parallel-item::after {content: \"\";width: 100%;border-bottom: 1px solid gray;flex-grow: 1;}#sk-container-id-1 div.sk-label:hover label.sk-toggleable__label {background-color: #d4ebff;}#sk-container-id-1 div.sk-serial::before {content: \"\";position: absolute;border-left: 1px solid gray;box-sizing: border-box;top: 0;bottom: 0;left: 50%;z-index: 0;}#sk-container-id-1 div.sk-serial {display: flex;flex-direction: column;align-items: center;background-color: white;padding-right: 0.2em;padding-left: 0.2em;position: relative;}#sk-container-id-1 div.sk-item {position: relative;z-index: 1;}#sk-container-id-1 div.sk-parallel {display: flex;align-items: stretch;justify-content: center;background-color: white;position: relative;}#sk-container-id-1 div.sk-item::before, #sk-container-id-1 div.sk-parallel-item::before {content: \"\";position: absolute;border-left: 1px solid gray;box-sizing: border-box;top: 0;bottom: 0;left: 50%;z-index: -1;}#sk-container-id-1 div.sk-parallel-item {display: flex;flex-direction: column;z-index: 1;position: relative;background-color: white;}#sk-container-id-1 div.sk-parallel-item:first-child::after {align-self: flex-end;width: 50%;}#sk-container-id-1 div.sk-parallel-item:last-child::after {align-self: flex-start;width: 50%;}#sk-container-id-1 div.sk-parallel-item:only-child::after {width: 0;}#sk-container-id-1 div.sk-dashed-wrapped {border: 1px dashed gray;margin: 0 0.4em 0.5em 0.4em;box-sizing: border-box;padding-bottom: 0.4em;background-color: white;}#sk-container-id-1 div.sk-label label {font-family: monospace;font-weight: bold;display: inline-block;line-height: 1.2em;}#sk-container-id-1 div.sk-label-container {text-align: center;}#sk-container-id-1 div.sk-container {/* jupyter's `normalize.less` sets `[hidden] { display: none; }` but bootstrap.min.css set `[hidden] { display: none !important; }` so we also need the `!important` here to be able to override the default hidden behavior on the sphinx rendered scikit-learn.org. See: https://github.com/scikit-learn/scikit-learn/issues/21755 */display: inline-block !important;position: relative;}#sk-container-id-1 div.sk-text-repr-fallback {display: none;}</style><div id=\"sk-container-id-1\" class=\"sk-top-container\"><div class=\"sk-text-repr-fallback\"><pre>KMeans(n_clusters=3)</pre><b>In a Jupyter environment, please rerun this cell to show the HTML representation or trust the notebook. <br />On GitHub, the HTML representation is unable to render, please try loading this page with nbviewer.org.</b></div><div class=\"sk-container\" hidden><div class=\"sk-item\"><div class=\"sk-estimator sk-toggleable\"><input class=\"sk-toggleable__control sk-hidden--visually\" id=\"sk-estimator-id-1\" type=\"checkbox\" checked><label for=\"sk-estimator-id-1\" class=\"sk-toggleable__label sk-toggleable__label-arrow\">KMeans</label><div class=\"sk-toggleable__content\"><pre>KMeans(n_clusters=3)</pre></div></div></div></div></div>"
     },
     "execution_count": 7,
     "metadata": {},
     "output_type": "execute_result"
    }
   ],
   "source": [
    "kmeans.fit(points)"
   ],
   "metadata": {
    "collapsed": false
   }
  },
  {
   "cell_type": "code",
   "execution_count": 8,
   "outputs": [
    {
     "data": {
      "text/plain": "<matplotlib.collections.PathCollection at 0x7fbde9f6daf0>"
     },
     "execution_count": 8,
     "metadata": {},
     "output_type": "execute_result"
    },
    {
     "data": {
      "text/plain": "<Figure size 640x480 with 1 Axes>",
      "image/png": "[encoded data removed]"
     },
     "metadata": {},
     "output_type": "display_data"
    }
   ],
   "source": [
    "plt.scatter(dataset[0][:,0], dataset[0][:,1])"
   ],
   "metadata": {
    "collapsed": false
   }
  },
  {
   "cell_type": "code",
   "execution_count": 9,
   "outputs": [
    {
     "name": "stdout",
     "output_type": "stream",
     "text": [
      "[[-0.16927767 -5.05901833]\n",
      " [-2.70954025  9.75781318]\n",
      " [-4.94131742 -2.64696842]]\n"
     ]
    }
   ],
   "source": [
    "clusters = kmeans.cluster_centers_\n",
    "print(clusters)"
   ],
   "metadata": {
    "collapsed": false
   }
  },
  {
   "cell_type": "code",
   "execution_count": 10,
   "outputs": [],
   "source": [
    "y_km = kmeans.fit_predict(points)"
   ],
   "metadata": {
    "collapsed": false
   }
  },
  {
   "cell_type": "code",
   "execution_count": 15,
   "outputs": [
    {
     "data": {
      "text/plain": "<Figure size 640x480 with 1 Axes>",
      "image/png": "[encoded data removed]"
     },
     "metadata": {},
     "output_type": "display_data"
    }
   ],
   "source": [
    "plt.scatter(points[y_km==0,0], points[y_km==0,1], s=50, color='red')\n",
    "plt.scatter(points[y_km==1,0], points[y_km==1,1], s=50, color='green')\n",
    "plt.scatter(points[y_km==2,0], points[y_km==2,1], s=50, color='blue')\n",
    "\n",
    "plt.scatter(clusters[0][0], clusters[0][1], marker=\"*\", s=200, color=\"yellow\")\n",
    "plt.scatter(clusters[1][0], clusters[1][1], marker=\"*\", s=200, color=\"yellow\")\n",
    "plt.scatter(clusters[2][0], clusters[2][1], marker=\"*\", s=200, color=\"yellow\")\n",
    "\n",
    "plt.show()"
   ],
   "metadata": {
    "collapsed": false
   }
  },
  {
   "cell_type": "code",
   "execution_count": null,
   "outputs": [],
   "source": [],
   "metadata": {
    "collapsed": false
   }
  }
 ],
 "metadata": {
  "kernelspec": {
   "display_name": "Python 3",
   "language": "python",
   "name": "python3"
  },
  "language_info": {
   "codemirror_mode": {
    "name": "ipython",
    "version": 2
   },
   "file_extension": ".py",
   "mimetype": "text/x-python",
   "name": "python",
   "nbconvert_exporter": "python",
   "pygments_lexer": "ipython2",
   "version": "2.7.6"
  }
 },
 "nbformat": 4,
 "nbformat_minor": 0
}
