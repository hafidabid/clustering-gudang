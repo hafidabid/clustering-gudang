{
 "cells": [
  {
   "cell_type": "code",
   "execution_count": 21,
   "metadata": {
    "collapsed": true
   },
   "outputs": [],
   "source": [
    "import pandas as pd\n",
    "import random\n",
    "from matplotlib import pyplot as plt\n",
    "from sklearn.datasets import make_blobs\n",
    "from sklearn.metrics import silhouette_score\n",
    "from sklearn.preprocessing import StandardScaler, MinMaxScaler\n",
    "from kmeans_scratch import KMeansAlgorithm"
   ]
  },
  {
   "cell_type": "code",
   "execution_count": 22,
   "outputs": [
    {
     "data": {
      "text/plain": "    province_name                        city_name      district_name  \\\n0     DKI JAKARTA  KOTA ADMINISTRASI JAKARTA BARAT         CENGKARENG   \n1     DKI JAKARTA  KOTA ADMINISTRASI JAKARTA BARAT         CENGKARENG   \n2     DKI JAKARTA  KOTA ADMINISTRASI JAKARTA BARAT         CENGKARENG   \n3     DKI JAKARTA  KOTA ADMINISTRASI JAKARTA BARAT         CENGKARENG   \n4     DKI JAKARTA  KOTA ADMINISTRASI JAKARTA BARAT  GROGOL PETAMBURAN   \n..            ...                              ...                ...   \n185   DKI JAKARTA  KOTA ADMINISTRASI JAKARTA PUSAT        TANAH ABANG   \n186   DKI JAKARTA  KOTA ADMINISTRASI JAKARTA PUSAT        TANAH ABANG   \n187   DKI JAKARTA  KOTA ADMINISTRASI JAKARTA PUSAT        TANAH ABANG   \n188   DKI JAKARTA  KOTA ADMINISTRASI JAKARTA PUSAT        TANAH ABANG   \n189   DKI JAKARTA  KOTA ADMINISTRASI JAKARTA PUSAT        TANAH ABANG   \n\n     subdistrict_name                lat_long  avg_demand_baseline  \\\n0    CENGKARENG BARAT    -6.13727,106.7153587                   57   \n1    CENGKARENG TIMUR  -6.1385859,106.7293052                   33   \n2        DURI KOSAMBI  -6.1715044,106.7056503                   25   \n3          RAWA BUAYA  -6.1613339,106.7294525                   40   \n4              GROGOL   -6.159495,106.7897422                  153   \n..                ...                     ...                  ...   \n185      KAMPUNG BALI  -6.1852948,106.8073138                   45   \n186     KARET TENGSIN  -6.2076699,106.8075363                  240   \n187      KEBON KACANG  -6.1906249,106.8072637                   99   \n188      KEBON MELATI  -6.1968299,106.8074788                   37   \n189        PETAMBURAN  -6.1963744,106.7962523                  154   \n\n     demand_target  \n0             85.5  \n1             49.5  \n2             37.5  \n3             60.0  \n4            229.5  \n..             ...  \n185           67.5  \n186          360.0  \n187          148.5  \n188           55.5  \n189          231.0  \n\n[190 rows x 7 columns]",
      "text/html": "<div>\n<style scoped>\n    .dataframe tbody tr th:only-of-type {\n        vertical-align: middle;\n    }\n\n    .dataframe tbody tr th {\n        vertical-align: top;\n    }\n\n    .dataframe thead th {\n        text-align: right;\n    }\n</style>\n<table border=\"1\" class=\"dataframe\">\n  <thead>\n    <tr style=\"text-align: right;\">\n      <th></th>\n      <th>province_name</th>\n      <th>city_name</th>\n      <th>district_name</th>\n      <th>subdistrict_name</th>\n      <th>lat_long</th>\n      <th>avg_demand_baseline</th>\n      <th>demand_target</th>\n    </tr>\n  </thead>\n  <tbody>\n    <tr>\n      <th>0</th>\n      <td>DKI JAKARTA</td>\n      <td>KOTA ADMINISTRASI JAKARTA BARAT</td>\n      <td>CENGKARENG</td>\n      <td>CENGKARENG BARAT</td>\n      <td>-6.13727,106.7153587</td>\n      <td>57</td>\n      <td>85.5</td>\n    </tr>\n    <tr>\n      <th>1</th>\n      <td>DKI JAKARTA</td>\n      <td>KOTA ADMINISTRASI JAKARTA BARAT</td>\n      <td>CENGKARENG</td>\n      <td>CENGKARENG TIMUR</td>\n      <td>-6.1385859,106.7293052</td>\n      <td>33</td>\n      <td>49.5</td>\n    </tr>\n    <tr>\n      <th>2</th>\n      <td>DKI JAKARTA</td>\n      <td>KOTA ADMINISTRASI JAKARTA BARAT</td>\n      <td>CENGKARENG</td>\n      <td>DURI KOSAMBI</td>\n      <td>-6.1715044,106.7056503</td>\n      <td>25</td>\n      <td>37.5</td>\n    </tr>\n    <tr>\n      <th>3</th>\n      <td>DKI JAKARTA</td>\n      <td>KOTA ADMINISTRASI JAKARTA BARAT</td>\n      <td>CENGKARENG</td>\n      <td>RAWA BUAYA</td>\n      <td>-6.1613339,106.7294525</td>\n      <td>40</td>\n      <td>60.0</td>\n    </tr>\n    <tr>\n      <th>4</th>\n      <td>DKI JAKARTA</td>\n      <td>KOTA ADMINISTRASI JAKARTA BARAT</td>\n      <td>GROGOL PETAMBURAN</td>\n      <td>GROGOL</td>\n      <td>-6.159495,106.7897422</td>\n      <td>153</td>\n      <td>229.5</td>\n    </tr>\n    <tr>\n      <th>...</th>\n      <td>...</td>\n      <td>...</td>\n      <td>...</td>\n      <td>...</td>\n      <td>...</td>\n      <td>...</td>\n      <td>...</td>\n    </tr>\n    <tr>\n      <th>185</th>\n      <td>DKI JAKARTA</td>\n      <td>KOTA ADMINISTRASI JAKARTA PUSAT</td>\n      <td>TANAH ABANG</td>\n      <td>KAMPUNG BALI</td>\n      <td>-6.1852948,106.8073138</td>\n      <td>45</td>\n      <td>67.5</td>\n    </tr>\n    <tr>\n      <th>186</th>\n      <td>DKI JAKARTA</td>\n      <td>KOTA ADMINISTRASI JAKARTA PUSAT</td>\n      <td>TANAH ABANG</td>\n      <td>KARET TENGSIN</td>\n      <td>-6.2076699,106.8075363</td>\n      <td>240</td>\n      <td>360.0</td>\n    </tr>\n    <tr>\n      <th>187</th>\n      <td>DKI JAKARTA</td>\n      <td>KOTA ADMINISTRASI JAKARTA PUSAT</td>\n      <td>TANAH ABANG</td>\n      <td>KEBON KACANG</td>\n      <td>-6.1906249,106.8072637</td>\n      <td>99</td>\n      <td>148.5</td>\n    </tr>\n    <tr>\n      <th>188</th>\n      <td>DKI JAKARTA</td>\n      <td>KOTA ADMINISTRASI JAKARTA PUSAT</td>\n      <td>TANAH ABANG</td>\n      <td>KEBON MELATI</td>\n      <td>-6.1968299,106.8074788</td>\n      <td>37</td>\n      <td>55.5</td>\n    </tr>\n    <tr>\n      <th>189</th>\n      <td>DKI JAKARTA</td>\n      <td>KOTA ADMINISTRASI JAKARTA PUSAT</td>\n      <td>TANAH ABANG</td>\n      <td>PETAMBURAN</td>\n      <td>-6.1963744,106.7962523</td>\n      <td>154</td>\n      <td>231.0</td>\n    </tr>\n  </tbody>\n</table>\n<p>190 rows × 7 columns</p>\n</div>"
     },
     "execution_count": 22,
     "metadata": {},
     "output_type": "execute_result"
    }
   ],
   "source": [
    "\"\"\"\n",
    "Load csv into pandas dataframe\n",
    "\"\"\"\n",
    "\n",
    "flname=\"../dataset_cluster_warehouse_exp_2.csv\"\n",
    "df = pd.read_csv(flname)\n",
    "df"
   ],
   "metadata": {
    "collapsed": false
   }
  },
  {
   "cell_type": "code",
   "execution_count": 23,
   "outputs": [
    {
     "data": {
      "text/plain": "                           city_name      district_name  subdistrict_name  \\\n0    KOTA ADMINISTRASI JAKARTA BARAT         CENGKARENG  CENGKARENG BARAT   \n1    KOTA ADMINISTRASI JAKARTA BARAT         CENGKARENG  CENGKARENG TIMUR   \n2    KOTA ADMINISTRASI JAKARTA BARAT         CENGKARENG      DURI KOSAMBI   \n3    KOTA ADMINISTRASI JAKARTA BARAT         CENGKARENG        RAWA BUAYA   \n4    KOTA ADMINISTRASI JAKARTA BARAT  GROGOL PETAMBURAN            GROGOL   \n..                               ...                ...               ...   \n185  KOTA ADMINISTRASI JAKARTA PUSAT        TANAH ABANG      KAMPUNG BALI   \n186  KOTA ADMINISTRASI JAKARTA PUSAT        TANAH ABANG     KARET TENGSIN   \n187  KOTA ADMINISTRASI JAKARTA PUSAT        TANAH ABANG      KEBON KACANG   \n188  KOTA ADMINISTRASI JAKARTA PUSAT        TANAH ABANG      KEBON MELATI   \n189  KOTA ADMINISTRASI JAKARTA PUSAT        TANAH ABANG        PETAMBURAN   \n\n     avg_demand_baseline  demand_target       lat        long  \n0                     57           85.5 -6.137270  106.715359  \n1                     33           49.5 -6.138586  106.729305  \n2                     25           37.5 -6.171504  106.705650  \n3                     40           60.0 -6.161334  106.729452  \n4                    153          229.5 -6.159495  106.789742  \n..                   ...            ...       ...         ...  \n185                   45           67.5 -6.185295  106.807314  \n186                  240          360.0 -6.207670  106.807536  \n187                   99          148.5 -6.190625  106.807264  \n188                   37           55.5 -6.196830  106.807479  \n189                  154          231.0 -6.196374  106.796252  \n\n[190 rows x 7 columns]",
      "text/html": "<div>\n<style scoped>\n    .dataframe tbody tr th:only-of-type {\n        vertical-align: middle;\n    }\n\n    .dataframe tbody tr th {\n        vertical-align: top;\n    }\n\n    .dataframe thead th {\n        text-align: right;\n    }\n</style>\n<table border=\"1\" class=\"dataframe\">\n  <thead>\n    <tr style=\"text-align: right;\">\n      <th></th>\n      <th>city_name</th>\n      <th>district_name</th>\n      <th>subdistrict_name</th>\n      <th>avg_demand_baseline</th>\n      <th>demand_target</th>\n      <th>lat</th>\n      <th>long</th>\n    </tr>\n  </thead>\n  <tbody>\n    <tr>\n      <th>0</th>\n      <td>KOTA ADMINISTRASI JAKARTA BARAT</td>\n      <td>CENGKARENG</td>\n      <td>CENGKARENG BARAT</td>\n      <td>57</td>\n      <td>85.5</td>\n      <td>-6.137270</td>\n      <td>106.715359</td>\n    </tr>\n    <tr>\n      <th>1</th>\n      <td>KOTA ADMINISTRASI JAKARTA BARAT</td>\n      <td>CENGKARENG</td>\n      <td>CENGKARENG TIMUR</td>\n      <td>33</td>\n      <td>49.5</td>\n      <td>-6.138586</td>\n      <td>106.729305</td>\n    </tr>\n    <tr>\n      <th>2</th>\n      <td>KOTA ADMINISTRASI JAKARTA BARAT</td>\n      <td>CENGKARENG</td>\n      <td>DURI KOSAMBI</td>\n      <td>25</td>\n      <td>37.5</td>\n      <td>-6.171504</td>\n      <td>106.705650</td>\n    </tr>\n    <tr>\n      <th>3</th>\n      <td>KOTA ADMINISTRASI JAKARTA BARAT</td>\n      <td>CENGKARENG</td>\n      <td>RAWA BUAYA</td>\n      <td>40</td>\n      <td>60.0</td>\n      <td>-6.161334</td>\n      <td>106.729452</td>\n    </tr>\n    <tr>\n      <th>4</th>\n      <td>KOTA ADMINISTRASI JAKARTA BARAT</td>\n      <td>GROGOL PETAMBURAN</td>\n      <td>GROGOL</td>\n      <td>153</td>\n      <td>229.5</td>\n      <td>-6.159495</td>\n      <td>106.789742</td>\n    </tr>\n    <tr>\n      <th>...</th>\n      <td>...</td>\n      <td>...</td>\n      <td>...</td>\n      <td>...</td>\n      <td>...</td>\n      <td>...</td>\n      <td>...</td>\n    </tr>\n    <tr>\n      <th>185</th>\n      <td>KOTA ADMINISTRASI JAKARTA PUSAT</td>\n      <td>TANAH ABANG</td>\n      <td>KAMPUNG BALI</td>\n      <td>45</td>\n      <td>67.5</td>\n      <td>-6.185295</td>\n      <td>106.807314</td>\n    </tr>\n    <tr>\n      <th>186</th>\n      <td>KOTA ADMINISTRASI JAKARTA PUSAT</td>\n      <td>TANAH ABANG</td>\n      <td>KARET TENGSIN</td>\n      <td>240</td>\n      <td>360.0</td>\n      <td>-6.207670</td>\n      <td>106.807536</td>\n    </tr>\n    <tr>\n      <th>187</th>\n      <td>KOTA ADMINISTRASI JAKARTA PUSAT</td>\n      <td>TANAH ABANG</td>\n      <td>KEBON KACANG</td>\n      <td>99</td>\n      <td>148.5</td>\n      <td>-6.190625</td>\n      <td>106.807264</td>\n    </tr>\n    <tr>\n      <th>188</th>\n      <td>KOTA ADMINISTRASI JAKARTA PUSAT</td>\n      <td>TANAH ABANG</td>\n      <td>KEBON MELATI</td>\n      <td>37</td>\n      <td>55.5</td>\n      <td>-6.196830</td>\n      <td>106.807479</td>\n    </tr>\n    <tr>\n      <th>189</th>\n      <td>KOTA ADMINISTRASI JAKARTA PUSAT</td>\n      <td>TANAH ABANG</td>\n      <td>PETAMBURAN</td>\n      <td>154</td>\n      <td>231.0</td>\n      <td>-6.196374</td>\n      <td>106.796252</td>\n    </tr>\n  </tbody>\n</table>\n<p>190 rows × 7 columns</p>\n</div>"
     },
     "execution_count": 23,
     "metadata": {},
     "output_type": "execute_result"
    }
   ],
   "source": [
    "\"\"\"\n",
    "split data lat_long into each lat and long it self.\n",
    "\"\"\"\n",
    "\n",
    "data_lat = []\n",
    "data_long = []\n",
    "for idx, row in df.iterrows():\n",
    "    point = row['lat_long'].split(',')\n",
    "    lat = float(point[0])\n",
    "    long = float(point[1])\n",
    "    data_lat.append(lat)\n",
    "    data_long.append(long)\n",
    "\n",
    "df = df.assign(lat=data_lat, long=data_long)\n",
    "dataset = df[['city_name', 'district_name','subdistrict_name', 'avg_demand_baseline', 'demand_target', 'lat', 'long']]\n",
    "dataset"
   ],
   "metadata": {
    "collapsed": false
   }
  },
  {
   "cell_type": "code",
   "execution_count": 24,
   "outputs": [
    {
     "data": {
      "text/plain": "                           city_name      district_name  subdistrict_name  \\\n0    KOTA ADMINISTRASI JAKARTA BARAT         CENGKARENG  CENGKARENG BARAT   \n1    KOTA ADMINISTRASI JAKARTA BARAT         CENGKARENG  CENGKARENG TIMUR   \n2    KOTA ADMINISTRASI JAKARTA BARAT         CENGKARENG      DURI KOSAMBI   \n3    KOTA ADMINISTRASI JAKARTA BARAT         CENGKARENG        RAWA BUAYA   \n4    KOTA ADMINISTRASI JAKARTA BARAT  GROGOL PETAMBURAN            GROGOL   \n..                               ...                ...               ...   \n185  KOTA ADMINISTRASI JAKARTA PUSAT        TANAH ABANG      KAMPUNG BALI   \n186  KOTA ADMINISTRASI JAKARTA PUSAT        TANAH ABANG     KARET TENGSIN   \n187  KOTA ADMINISTRASI JAKARTA PUSAT        TANAH ABANG      KEBON KACANG   \n188  KOTA ADMINISTRASI JAKARTA PUSAT        TANAH ABANG      KEBON MELATI   \n189  KOTA ADMINISTRASI JAKARTA PUSAT        TANAH ABANG        PETAMBURAN   \n\n     avg_demand_baseline  demand_target       lat        long  rent_fee  \n0                     57           85.5 -6.137270  106.715359      1601  \n1                     33           49.5 -6.138586  106.729305      1916  \n2                     25           37.5 -6.171504  106.705650      1432  \n3                     40           60.0 -6.161334  106.729452      1117  \n4                    153          229.5 -6.159495  106.789742      1353  \n..                   ...            ...       ...         ...       ...  \n185                   45           67.5 -6.185295  106.807314      1520  \n186                  240          360.0 -6.207670  106.807536      1135  \n187                   99          148.5 -6.190625  106.807264      1821  \n188                   37           55.5 -6.196830  106.807479      1863  \n189                  154          231.0 -6.196374  106.796252      1080  \n\n[190 rows x 8 columns]",
      "text/html": "<div>\n<style scoped>\n    .dataframe tbody tr th:only-of-type {\n        vertical-align: middle;\n    }\n\n    .dataframe tbody tr th {\n        vertical-align: top;\n    }\n\n    .dataframe thead th {\n        text-align: right;\n    }\n</style>\n<table border=\"1\" class=\"dataframe\">\n  <thead>\n    <tr style=\"text-align: right;\">\n      <th></th>\n      <th>city_name</th>\n      <th>district_name</th>\n      <th>subdistrict_name</th>\n      <th>avg_demand_baseline</th>\n      <th>demand_target</th>\n      <th>lat</th>\n      <th>long</th>\n      <th>rent_fee</th>\n    </tr>\n  </thead>\n  <tbody>\n    <tr>\n      <th>0</th>\n      <td>KOTA ADMINISTRASI JAKARTA BARAT</td>\n      <td>CENGKARENG</td>\n      <td>CENGKARENG BARAT</td>\n      <td>57</td>\n      <td>85.5</td>\n      <td>-6.137270</td>\n      <td>106.715359</td>\n      <td>1601</td>\n    </tr>\n    <tr>\n      <th>1</th>\n      <td>KOTA ADMINISTRASI JAKARTA BARAT</td>\n      <td>CENGKARENG</td>\n      <td>CENGKARENG TIMUR</td>\n      <td>33</td>\n      <td>49.5</td>\n      <td>-6.138586</td>\n      <td>106.729305</td>\n      <td>1916</td>\n    </tr>\n    <tr>\n      <th>2</th>\n      <td>KOTA ADMINISTRASI JAKARTA BARAT</td>\n      <td>CENGKARENG</td>\n      <td>DURI KOSAMBI</td>\n      <td>25</td>\n      <td>37.5</td>\n      <td>-6.171504</td>\n      <td>106.705650</td>\n      <td>1432</td>\n    </tr>\n    <tr>\n      <th>3</th>\n      <td>KOTA ADMINISTRASI JAKARTA BARAT</td>\n      <td>CENGKARENG</td>\n      <td>RAWA BUAYA</td>\n      <td>40</td>\n      <td>60.0</td>\n      <td>-6.161334</td>\n      <td>106.729452</td>\n      <td>1117</td>\n    </tr>\n    <tr>\n      <th>4</th>\n      <td>KOTA ADMINISTRASI JAKARTA BARAT</td>\n      <td>GROGOL PETAMBURAN</td>\n      <td>GROGOL</td>\n      <td>153</td>\n      <td>229.5</td>\n      <td>-6.159495</td>\n      <td>106.789742</td>\n      <td>1353</td>\n    </tr>\n    <tr>\n      <th>...</th>\n      <td>...</td>\n      <td>...</td>\n      <td>...</td>\n      <td>...</td>\n      <td>...</td>\n      <td>...</td>\n      <td>...</td>\n      <td>...</td>\n    </tr>\n    <tr>\n      <th>185</th>\n      <td>KOTA ADMINISTRASI JAKARTA PUSAT</td>\n      <td>TANAH ABANG</td>\n      <td>KAMPUNG BALI</td>\n      <td>45</td>\n      <td>67.5</td>\n      <td>-6.185295</td>\n      <td>106.807314</td>\n      <td>1520</td>\n    </tr>\n    <tr>\n      <th>186</th>\n      <td>KOTA ADMINISTRASI JAKARTA PUSAT</td>\n      <td>TANAH ABANG</td>\n      <td>KARET TENGSIN</td>\n      <td>240</td>\n      <td>360.0</td>\n      <td>-6.207670</td>\n      <td>106.807536</td>\n      <td>1135</td>\n    </tr>\n    <tr>\n      <th>187</th>\n      <td>KOTA ADMINISTRASI JAKARTA PUSAT</td>\n      <td>TANAH ABANG</td>\n      <td>KEBON KACANG</td>\n      <td>99</td>\n      <td>148.5</td>\n      <td>-6.190625</td>\n      <td>106.807264</td>\n      <td>1821</td>\n    </tr>\n    <tr>\n      <th>188</th>\n      <td>KOTA ADMINISTRASI JAKARTA PUSAT</td>\n      <td>TANAH ABANG</td>\n      <td>KEBON MELATI</td>\n      <td>37</td>\n      <td>55.5</td>\n      <td>-6.196830</td>\n      <td>106.807479</td>\n      <td>1863</td>\n    </tr>\n    <tr>\n      <th>189</th>\n      <td>KOTA ADMINISTRASI JAKARTA PUSAT</td>\n      <td>TANAH ABANG</td>\n      <td>PETAMBURAN</td>\n      <td>154</td>\n      <td>231.0</td>\n      <td>-6.196374</td>\n      <td>106.796252</td>\n      <td>1080</td>\n    </tr>\n  </tbody>\n</table>\n<p>190 rows × 8 columns</p>\n</div>"
     },
     "execution_count": 24,
     "metadata": {},
     "output_type": "execute_result"
    }
   ],
   "source": [
    "\"\"\"\n",
    "Generate dummy data for rent fee\n",
    "\"\"\"\n",
    "rent_fee = [random.randint(1000,2000) for _ in range(len(dataset))]\n",
    "dataset = dataset.assign(rent_fee=rent_fee)\n",
    "dataset\n"
   ],
   "metadata": {
    "collapsed": false
   }
  },
  {
   "cell_type": "markdown",
   "source": [
    "# Converting feature to weight factor phase"
   ],
   "metadata": {
    "collapsed": false
   }
  },
  {
   "cell_type": "code",
   "execution_count": 40,
   "outputs": [
    {
     "data": {
      "text/plain": "     avg_demand_baseline  demand_target  rent_fee\n0               0.164557       0.161792  0.604230\n1               0.088608       0.087119  0.921450\n2               0.063291       0.062228  0.434038\n3               0.110759       0.108899  0.116818\n4               0.468354       0.460485  0.354481\n..                   ...            ...       ...\n185             0.126582       0.124456  0.522659\n186             0.743671       0.731176  0.134945\n187             0.297468       0.292470  0.825780\n188             0.101266       0.099564  0.868077\n189             0.471519       0.463597  0.079557\n\n[190 rows x 3 columns]",
      "text/html": "<div>\n<style scoped>\n    .dataframe tbody tr th:only-of-type {\n        vertical-align: middle;\n    }\n\n    .dataframe tbody tr th {\n        vertical-align: top;\n    }\n\n    .dataframe thead th {\n        text-align: right;\n    }\n</style>\n<table border=\"1\" class=\"dataframe\">\n  <thead>\n    <tr style=\"text-align: right;\">\n      <th></th>\n      <th>avg_demand_baseline</th>\n      <th>demand_target</th>\n      <th>rent_fee</th>\n    </tr>\n  </thead>\n  <tbody>\n    <tr>\n      <th>0</th>\n      <td>0.164557</td>\n      <td>0.161792</td>\n      <td>0.604230</td>\n    </tr>\n    <tr>\n      <th>1</th>\n      <td>0.088608</td>\n      <td>0.087119</td>\n      <td>0.921450</td>\n    </tr>\n    <tr>\n      <th>2</th>\n      <td>0.063291</td>\n      <td>0.062228</td>\n      <td>0.434038</td>\n    </tr>\n    <tr>\n      <th>3</th>\n      <td>0.110759</td>\n      <td>0.108899</td>\n      <td>0.116818</td>\n    </tr>\n    <tr>\n      <th>4</th>\n      <td>0.468354</td>\n      <td>0.460485</td>\n      <td>0.354481</td>\n    </tr>\n    <tr>\n      <th>...</th>\n      <td>...</td>\n      <td>...</td>\n      <td>...</td>\n    </tr>\n    <tr>\n      <th>185</th>\n      <td>0.126582</td>\n      <td>0.124456</td>\n      <td>0.522659</td>\n    </tr>\n    <tr>\n      <th>186</th>\n      <td>0.743671</td>\n      <td>0.731176</td>\n      <td>0.134945</td>\n    </tr>\n    <tr>\n      <th>187</th>\n      <td>0.297468</td>\n      <td>0.292470</td>\n      <td>0.825780</td>\n    </tr>\n    <tr>\n      <th>188</th>\n      <td>0.101266</td>\n      <td>0.099564</td>\n      <td>0.868077</td>\n    </tr>\n    <tr>\n      <th>189</th>\n      <td>0.471519</td>\n      <td>0.463597</td>\n      <td>0.079557</td>\n    </tr>\n  </tbody>\n</table>\n<p>190 rows × 3 columns</p>\n</div>"
     },
     "execution_count": 40,
     "metadata": {},
     "output_type": "execute_result"
    }
   ],
   "source": [
    "wfactor_dataset = dataset[['avg_demand_baseline', 'demand_target', 'rent_fee']]\n",
    "scaler = MinMaxScaler()\n",
    "model = scaler.fit(wfactor_dataset)\n",
    "scaled_data = model.transform(wfactor_dataset)\n",
    "wfactor_dataset = pd.DataFrame()\n",
    "wfactor_dataset = wfactor_dataset.assign(\n",
    "    avg_demand_baseline = scaled_data[:,0],\n",
    "    demand_target = scaled_data[:,1],\n",
    "    rent_fee = scaled_data[:,2],\n",
    ")\n",
    "wfactor_dataset"
   ],
   "metadata": {
    "collapsed": false
   }
  },
  {
   "cell_type": "markdown",
   "source": [
    "# Kmeans Experiment for every weight factor variables\n",
    "\n",
    "Experiment Feature\n",
    "- Using 1 feature only (demand)\n",
    "- Using 2 Feature (demand and avg_demand) balanced\n",
    "- Using 2 Feature (demand and avg_demand) with priority factor\n",
    "- Using 2 feature including rent balanced\n",
    "- Using 2 feature including rent with priority factor\n",
    "- Using 3 feature balanced\n",
    "- Using 3 feature with priority factor"
   ],
   "metadata": {
    "collapsed": false
   }
  },
  {
   "cell_type": "code",
   "execution_count": 26,
   "outputs": [],
   "source": [
    "from typing import List, Union\n",
    "def prepare_experiment_1()->List[Union[int, float]]:\n",
    "    pass\n",
    "\n",
    "def prepare_experiment_2()->List[Union[int, float]]:\n",
    "    pass\n",
    "\n",
    "def prepare_experiment_3()->List[Union[int, float]]:\n",
    "    pass\n",
    "\n",
    "def prepare_experiment_4()->List[Union[int, float]]:\n",
    "    pass\n",
    "\n",
    "def prepare_experiment_5()->List[Union[int, float]]:\n",
    "    pass\n",
    "\n",
    "def prepare_experiment_6()->List[Union[int, float]]:\n",
    "    return [1,2,3,4,5]\n",
    "\n",
    "n_experiments = 6\n",
    "weight_experiments = []\n",
    "for i in range(n_experiments):\n",
    "    weight_experiments.append(locals()[\"prepare_experiment_\"+str(i+1)]())\n",
    "\n"
   ],
   "metadata": {
    "collapsed": false
   }
  },
  {
   "cell_type": "markdown",
   "source": [
    "# Determining Cluster with elbow method"
   ],
   "metadata": {
    "collapsed": false
   }
  },
  {
   "cell_type": "code",
   "execution_count": null,
   "outputs": [],
   "source": [
    "cluster_test = 10\n",
    "for i in range(n_experiments):\n",
    "    print(f\"Experiment ke \".format(i+1))\n",
    "    wcss = []\n",
    "\n",
    "    for j in range(cluster_test):\n",
    "        kmeans = KMeansAlgorithm(dataset, j, 'lat', 'long', weight_experiments[i])\n",
    "        kmeans.fit(250)\n",
    "        wcss.append(kmeans.get_wcss())\n",
    "\n",
    "    plt.plot(range(1, cluster_test), wcss)\n",
    "    plt.xlabel(\"number of cluster\")\n",
    "    plt.ylabel(\"wcss\")\n",
    "    plt.show()\n",
    "    print(\"==============================\\n\")"
   ],
   "metadata": {
    "collapsed": false
   }
  },
  {
   "cell_type": "markdown",
   "source": [
    "# K means clustering experiment"
   ],
   "metadata": {
    "collapsed": false
   }
  },
  {
   "cell_type": "code",
   "execution_count": null,
   "outputs": [],
   "source": [
    "n_cluster = 6\n",
    "legend_multiplier = 20\n",
    "kmeans = KMeansAlgorithm(dataset, n_cluster, 'lat', 'long')\n",
    "kmeans.lock_init_centroid(True)\n",
    "for i in range(n_experiments):\n",
    "    print(f\"Experiment ke \".format(i+1))\n",
    "\n",
    "    kmeans.set_weight_factor(weight_experiments[i])\n",
    "    kmeans.fit(250)\n",
    "    pred = kmeans.predict()\n",
    "    final_dataset = dataset.assign(pred = pred)\n",
    "\n",
    "    print(\"\\n==========DATASET=========\\n\")\n",
    "    print(final_dataset)\n",
    "    print()\n",
    "\n",
    "    print(\"\\n==========CENTROID=========\\n\")\n",
    "    print(kmeans.centroid)\n",
    "\n",
    "    demand_p_cluster = []\n",
    "    for j in range(n_cluster):\n",
    "        dt = final_dataset[final_dataset.pred==i]['demand_target'].mean()\n",
    "        demand_p_cluster.append(dt * legend_multiplier)\n",
    "\n",
    "    kmeans.visualize_kmeans((10,8), demand_p_cluster)\n",
    "    print(\"\\n==========================================================\")\n",
    "    print(\"====================END OF EXPERIMENTS====================\")\n",
    "    print(\"==========================================================\\n\")\n",
    "\n"
   ],
   "metadata": {
    "collapsed": false
   }
  }
 ],
 "metadata": {
  "kernelspec": {
   "display_name": "Python 3",
   "language": "python",
   "name": "python3"
  },
  "language_info": {
   "codemirror_mode": {
    "name": "ipython",
    "version": 2
   },
   "file_extension": ".py",
   "mimetype": "text/x-python",
   "name": "python",
   "nbconvert_exporter": "python",
   "pygments_lexer": "ipython2",
   "version": "2.7.6"
  }
 },
 "nbformat": 4,
 "nbformat_minor": 0
}
